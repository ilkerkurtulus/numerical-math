{
 "cells": [
  {
   "cell_type": "code",
   "execution_count": 1,
   "metadata": {},
   "outputs": [
    {
     "data": {
      "text/html": [
       "<style>.container { width:95% !important; }</style>"
      ],
      "text/plain": [
       "<IPython.core.display.HTML object>"
      ]
     },
     "metadata": {},
     "output_type": "display_data"
    }
   ],
   "source": [
    "import numpy as np\n",
    "import pandas as pd\n",
    "import matplotlib.pyplot as plt\n",
    "plt.style.use('fivethirtyeight')\n",
    "import warnings\n",
    "warnings.filterwarnings('ignore')\n",
    "from IPython.core.display import display, HTML\n",
    "display(HTML(\"<style>.container { width:95% !important; }</style>\"))"
   ]
  },
  {
   "cell_type": "markdown",
   "metadata": {},
   "source": [
    "## Least Square Curve Fit using Chebyshev Polynomials"
   ]
  },
  {
   "cell_type": "code",
   "execution_count": 2,
   "metadata": {},
   "outputs": [
    {
     "name": "stdout",
     "output_type": "stream",
     "text": [
      "0.1335\n"
     ]
    },
    {
     "data": {
      "image/png": "[encoded data removed]",
      "text/plain": [
       "<Figure size 720x288 with 1 Axes>"
      ]
     },
     "metadata": {
      "needs_background": "light"
     },
     "output_type": "display_data"
    }
   ],
   "source": [
    "# better to use point between (-1,1) since chebyshev can converge at this interval\n",
    "x = np.arange(-1,1, 0.001)[1:-1]\n",
    "# test polynomial\n",
    "y = x**2 + 2*x + 1\n",
    "# chebyshev fit\n",
    "coef = np.polynomial.chebyshev.chebfit(x,y, deg = 2)\n",
    "# MSE of the fit\n",
    "y_pred = coef[2]*x**2 + coef[1]*x + coef[0]\n",
    "print(np.round(((y_pred - y)**2).mean(), 4))\n",
    "plt.figure(figsize = (10,4))\n",
    "plt.title(\"2nd Degree Polynomial and its Chebyshev Fit\")\n",
    "plt.scatter(y = y, x = x, label = \"original polynomial\")\n",
    "plt.scatter(y = y_pred, x = x, label = \"chebyshev fit\")\n",
    "plt.legend()\n",
    "plt.show()"
   ]
  },
  {
   "cell_type": "markdown",
   "metadata": {},
   "source": [
    "## Runge Kutta 4th Order"
   ]
  },
  {
   "cell_type": "markdown",
   "metadata": {},
   "source": [
    "Solution for differential equation below on [1,2]\n",
    "\n",
    "$$x' = 1 + xt^{-1}$$\n",
    "$$ x(1) = 1$$ "
   ]
  },
  {
   "cell_type": "code",
   "execution_count": 3,
   "metadata": {},
   "outputs": [],
   "source": [
    "def rk4(f, t, x, h, t_final):\n",
    "    while t<=t_final:\n",
    "        K1 = f(t, x)\n",
    "        K2 = f(t + h/2, x + h*K1/2)\n",
    "        K3 = f(t + h/2, x + h*K2/2)\n",
    "        K4 = f(t + h, x + h*K3)\n",
    "        \n",
    "        x = x + h*(K1 + 2*K2 + 2*K3 + K4)/6\n",
    "        t = t + h\n",
    "    return x"
   ]
  },
  {
   "cell_type": "code",
   "execution_count": 4,
   "metadata": {},
   "outputs": [],
   "source": [
    "def f(t, x):\n",
    "    return 1 + x*t**-1\n",
    "\n",
    "# Different H values \n",
    "rk4_solutions = []\n",
    "for n in range(2,12):\n",
    "    rk4_solutions.append(rk4(f, 1, 1, 2**(-n), 2))"
   ]
  },
  {
   "cell_type": "markdown",
   "metadata": {},
   "source": [
    "## RK45 "
   ]
  },
  {
   "cell_type": "code",
   "execution_count": 5,
   "metadata": {},
   "outputs": [],
   "source": [
    "def rk45(f, t, x, h, t_final):\n",
    "    while t<=t_final:\n",
    "        K1 = h*f(t, x)\n",
    "        K2 = h*f(t + h/4, x + h*K1/4)\n",
    "        K3 = h*f(t + h*3/8, x + K1*3/32 + K2*9/32)\n",
    "        K4 = h*f(t + h*12/13, x + K1*1932/2197 - K2*7200/2197 + K3*7296/2197)\n",
    "        K5 = h*f(t + h, x + K1*439/216 - K2*8 + K3*3680/513 - K4*845/4104)\n",
    "        K6 = h*f(t + h/2, x - K1*8/27 + 2*K2 - K3*3544/2565 + K4*1859/4104 - K5*11/40)\n",
    "        \n",
    "        error = np.abs(K1*16/135 + K3*6656/12825 + K4*28561/56430 - K5*9/50)\n",
    "        x = x + K1*16/135 + K3*6656/12825 + K4*28561/56430 - K5*9/50 + K6*2/55\n",
    "        t = t + h\n",
    "    return x, error"
   ]
  },
  {
   "cell_type": "code",
   "execution_count": 6,
   "metadata": {},
   "outputs": [],
   "source": [
    "def f(t, x):\n",
    "    return 1 + x*t**-1\n",
    "\n",
    "# Different H values \n",
    "rk45_solutions = []\n",
    "for n in range(2,12):\n",
    "    rk45_solutions.append(rk45(f, 1, 1, 2**(-n), 2)[0])"
   ]
  },
  {
   "cell_type": "markdown",
   "metadata": {},
   "source": [
    "## 4th Taylor Series for the Same Function"
   ]
  },
  {
   "cell_type": "code",
   "execution_count": 7,
   "metadata": {},
   "outputs": [],
   "source": [
    "def taylor_series_order_4_a(t, x, h, t_final):\n",
    "    while t<=t_final:        \n",
    "        dx = 1 + x*t**-1\n",
    "        ddx = dx*t**-1 - x*t**-2\n",
    "        dddx = ddx*t**-1 - 2*x*t**-2 + x*t**-3\n",
    "        ddddx = dddx*t**-1 - ddx*t**-2 - 2*dx*t**-2 + 4*x*t**-3 + dx*t**-3 - 3*x*t**-4\n",
    "    \n",
    "        x = x + h*(dx + 1/2*h*(ddx+1/3*h*(dddx + 1/4*h*ddddx)))\n",
    "        t = t + h\n",
    "    return x\n",
    "taylor_solutions = []\n",
    "for n in range(2,12):\n",
    "    taylor_solutions.append(taylor_series_order_4_a(1, 1, 2**(-n), 2))"
   ]
  },
  {
   "cell_type": "markdown",
   "metadata": {},
   "source": [
    "## Comparison"
   ]
  },
  {
   "cell_type": "code",
   "execution_count": 8,
   "metadata": {},
   "outputs": [],
   "source": [
    "df = pd.DataFrame(taylor_solutions)\n",
    "df.columns = [\"Taylor\"]\n",
    "df[\"RK4\"] = rk4_solutions\n",
    "df[\"RK5\"] = rk45_solutions\n",
    "df[\"H\"] = 1/(2**(np.arange(2,12)))"
   ]
  },
  {
   "cell_type": "code",
   "execution_count": 9,
   "metadata": {},
   "outputs": [
    {
     "data": {
      "text/html": [
       "<div>\n",
       "<style scoped>\n",
       "    .dataframe tbody tr th:only-of-type {\n",
       "        vertical-align: middle;\n",
       "    }\n",
       "\n",
       "    .dataframe tbody tr th {\n",
       "        vertical-align: top;\n",
       "    }\n",
       "\n",
       "    .dataframe thead th {\n",
       "        text-align: right;\n",
       "    }\n",
       "</style>\n",
       "<table border=\"1\" class=\"dataframe\">\n",
       "  <thead>\n",
       "    <tr style=\"text-align: right;\">\n",
       "      <th></th>\n",
       "      <th>Taylor</th>\n",
       "      <th>RK4</th>\n",
       "      <th>RK5</th>\n",
       "      <th>H</th>\n",
       "    </tr>\n",
       "  </thead>\n",
       "  <tbody>\n",
       "    <tr>\n",
       "      <td>0</td>\n",
       "      <td>4.072333</td>\n",
       "      <td>4.074533</td>\n",
       "      <td>4.074474</td>\n",
       "      <td>0.250000</td>\n",
       "    </tr>\n",
       "    <tr>\n",
       "      <td>1</td>\n",
       "      <td>3.726284</td>\n",
       "      <td>3.726761</td>\n",
       "      <td>3.726756</td>\n",
       "      <td>0.125000</td>\n",
       "    </tr>\n",
       "    <tr>\n",
       "      <td>2</td>\n",
       "      <td>3.555470</td>\n",
       "      <td>3.555582</td>\n",
       "      <td>3.555582</td>\n",
       "      <td>0.062500</td>\n",
       "    </tr>\n",
       "    <tr>\n",
       "      <td>3</td>\n",
       "      <td>3.470671</td>\n",
       "      <td>3.470698</td>\n",
       "      <td>3.470698</td>\n",
       "      <td>0.031250</td>\n",
       "    </tr>\n",
       "    <tr>\n",
       "      <td>4</td>\n",
       "      <td>3.428429</td>\n",
       "      <td>3.428436</td>\n",
       "      <td>3.428436</td>\n",
       "      <td>0.015625</td>\n",
       "    </tr>\n",
       "    <tr>\n",
       "      <td>5</td>\n",
       "      <td>3.407348</td>\n",
       "      <td>3.407350</td>\n",
       "      <td>3.407350</td>\n",
       "      <td>0.007812</td>\n",
       "    </tr>\n",
       "    <tr>\n",
       "      <td>6</td>\n",
       "      <td>3.396818</td>\n",
       "      <td>3.396818</td>\n",
       "      <td>3.396818</td>\n",
       "      <td>0.003906</td>\n",
       "    </tr>\n",
       "    <tr>\n",
       "      <td>7</td>\n",
       "      <td>3.391555</td>\n",
       "      <td>3.391555</td>\n",
       "      <td>3.391555</td>\n",
       "      <td>0.001953</td>\n",
       "    </tr>\n",
       "    <tr>\n",
       "      <td>8</td>\n",
       "      <td>3.388925</td>\n",
       "      <td>3.388925</td>\n",
       "      <td>3.388925</td>\n",
       "      <td>0.000977</td>\n",
       "    </tr>\n",
       "    <tr>\n",
       "      <td>9</td>\n",
       "      <td>3.387609</td>\n",
       "      <td>3.387609</td>\n",
       "      <td>3.387609</td>\n",
       "      <td>0.000488</td>\n",
       "    </tr>\n",
       "  </tbody>\n",
       "</table>\n",
       "</div>"
      ],
      "text/plain": [
       "     Taylor       RK4       RK5         H\n",
       "0  4.072333  4.074533  4.074474  0.250000\n",
       "1  3.726284  3.726761  3.726756  0.125000\n",
       "2  3.555470  3.555582  3.555582  0.062500\n",
       "3  3.470671  3.470698  3.470698  0.031250\n",
       "4  3.428429  3.428436  3.428436  0.015625\n",
       "5  3.407348  3.407350  3.407350  0.007812\n",
       "6  3.396818  3.396818  3.396818  0.003906\n",
       "7  3.391555  3.391555  3.391555  0.001953\n",
       "8  3.388925  3.388925  3.388925  0.000977\n",
       "9  3.387609  3.387609  3.387609  0.000488"
      ]
     },
     "execution_count": 9,
     "metadata": {},
     "output_type": "execute_result"
    }
   ],
   "source": [
    "df"
   ]
  }
 ],
 "metadata": {
  "kernelspec": {
   "display_name": "Python 3",
   "language": "python",
   "name": "python3"
  },
  "language_info": {
   "codemirror_mode": {
    "name": "ipython",
    "version": 3
   },
   "file_extension": ".py",
   "mimetype": "text/x-python",
   "name": "python",
   "nbconvert_exporter": "python",
   "pygments_lexer": "ipython3",
   "version": "3.7.3"
  },
  "toc": {
   "base_numbering": 1,
   "nav_menu": {
    "height": "67.9972px",
    "width": "260px"
   },
   "number_sections": true,
   "sideBar": true,
   "skip_h1_title": false,
   "title_cell": "Table of Contents",
   "title_sidebar": "Contents",
   "toc_cell": false,
   "toc_position": {},
   "toc_section_display": true,
   "toc_window_display": false
  },
  "varInspector": {
   "cols": {
    "lenName": 16,
    "lenType": 16,
    "lenVar": 40
   },
   "kernels_config": {
    "python": {
     "delete_cmd_postfix": "",
     "delete_cmd_prefix": "del ",
     "library": "var_list.py",
     "varRefreshCmd": "print(var_dic_list())"
    },
    "r": {
     "delete_cmd_postfix": ") ",
     "delete_cmd_prefix": "rm(",
     "library": "var_list.r",
     "varRefreshCmd": "cat(var_dic_list()) "
    }
   },
   "types_to_exclude": [
    "module",
    "function",
    "builtin_function_or_method",
    "instance",
    "_Feature"
   ],
   "window_display": false
  }
 },
 "nbformat": 4,
 "nbformat_minor": 2
}
